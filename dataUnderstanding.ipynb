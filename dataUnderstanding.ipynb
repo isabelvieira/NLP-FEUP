{
 "cells": [
  {
   "attachments": {},
   "cell_type": "markdown",
   "metadata": {
    "tags": [
     "parameters"
    ]
   },
   "source": [
    "# PLN project - Data Understanding\n",
    "\n",
    "This is the first part of the PLN data mining project. In this notebook, you will find the process of data understanding. "
   ]
  },
  {
   "cell_type": "markdown",
   "metadata": {},
   "source": [
    "## Import of the needed packages"
   ]
  },
  {
   "cell_type": "code",
   "execution_count": 2,
   "metadata": {},
   "outputs": [],
   "source": [
    "#All of the needed packages will be imported here\n",
    "import pandas as pd\n",
    "import seaborn as sns\n",
    "import matplotlib.pyplot as plt"
   ]
  },
  {
   "cell_type": "markdown",
   "metadata": {},
   "source": [
    "## Read files\n",
    "The first step to perform the analysis is to proper read the data files."
   ]
  },
  {
   "cell_type": "code",
   "execution_count": 3,
   "metadata": {},
   "outputs": [],
   "source": [
    "arxiv = pd.read_csv('ArXiv-10/arxiv100.csv', sep=\",\")"
   ]
  },
  {
   "cell_type": "markdown",
   "metadata": {},
   "source": [
    "Without a further treatment, a problem arises. The dates are being treated as numbers. For this reason, it is needed to do something more complex than the default readers from pandas. "
   ]
  },
  {
   "attachments": {},
   "cell_type": "markdown",
   "metadata": {},
   "source": [
    "## Analysis of the dataset"
   ]
  },
  {
   "cell_type": "code",
   "execution_count": 7,
   "metadata": {},
   "outputs": [
    {
     "data": {
      "text/html": [
       "<div>\n",
       "<style scoped>\n",
       "    .dataframe tbody tr th:only-of-type {\n",
       "        vertical-align: middle;\n",
       "    }\n",
       "\n",
       "    .dataframe tbody tr th {\n",
       "        vertical-align: top;\n",
       "    }\n",
       "\n",
       "    .dataframe thead th {\n",
       "        text-align: right;\n",
       "    }\n",
       "</style>\n",
       "<table border=\"1\" class=\"dataframe\">\n",
       "  <thead>\n",
       "    <tr style=\"text-align: right;\">\n",
       "      <th></th>\n",
       "      <th>title</th>\n",
       "      <th>abstract</th>\n",
       "      <th>label</th>\n",
       "    </tr>\n",
       "  </thead>\n",
       "  <tbody>\n",
       "    <tr>\n",
       "      <th>0</th>\n",
       "      <td>The Pre-He White Dwarfs in Eclipsing Binaries....</td>\n",
       "      <td>We report the first $BV$ light curves and hi...</td>\n",
       "      <td>astro-ph</td>\n",
       "    </tr>\n",
       "    <tr>\n",
       "      <th>1</th>\n",
       "      <td>A Possible Origin of kHZ QPOs in Low-Mass X-ra...</td>\n",
       "      <td>A possible origin of kHz QPOs in low-mass X-...</td>\n",
       "      <td>astro-ph</td>\n",
       "    </tr>\n",
       "    <tr>\n",
       "      <th>2</th>\n",
       "      <td>The effects of driving time scales on heating ...</td>\n",
       "      <td>Context. The relative importance of AC and D...</td>\n",
       "      <td>astro-ph</td>\n",
       "    </tr>\n",
       "    <tr>\n",
       "      <th>3</th>\n",
       "      <td>A new hard X-ray selected sample of extreme hi...</td>\n",
       "      <td>Extreme high-energy peaked BL Lac objects (E...</td>\n",
       "      <td>astro-ph</td>\n",
       "    </tr>\n",
       "    <tr>\n",
       "      <th>4</th>\n",
       "      <td>The baryon cycle of Seven Dwarfs with superbub...</td>\n",
       "      <td>We present results from a high-resolution, c...</td>\n",
       "      <td>astro-ph</td>\n",
       "    </tr>\n",
       "  </tbody>\n",
       "</table>\n",
       "</div>"
      ],
      "text/plain": [
       "                                               title  \\\n",
       "0  The Pre-He White Dwarfs in Eclipsing Binaries....   \n",
       "1  A Possible Origin of kHZ QPOs in Low-Mass X-ra...   \n",
       "2  The effects of driving time scales on heating ...   \n",
       "3  A new hard X-ray selected sample of extreme hi...   \n",
       "4  The baryon cycle of Seven Dwarfs with superbub...   \n",
       "\n",
       "                                            abstract     label  \n",
       "0    We report the first $BV$ light curves and hi...  astro-ph  \n",
       "1    A possible origin of kHz QPOs in low-mass X-...  astro-ph  \n",
       "2    Context. The relative importance of AC and D...  astro-ph  \n",
       "3    Extreme high-energy peaked BL Lac objects (E...  astro-ph  \n",
       "4    We present results from a high-resolution, c...  astro-ph  "
      ]
     },
     "execution_count": 7,
     "metadata": {},
     "output_type": "execute_result"
    }
   ],
   "source": [
    "arxiv.head()"
   ]
  },
  {
   "cell_type": "code",
   "execution_count": 8,
   "metadata": {},
   "outputs": [
    {
     "data": {
      "text/plain": [
       "<bound method NDFrame.describe of                                                    title  \\\n",
       "0      The Pre-He White Dwarfs in Eclipsing Binaries....   \n",
       "1      A Possible Origin of kHZ QPOs in Low-Mass X-ra...   \n",
       "2      The effects of driving time scales on heating ...   \n",
       "3      A new hard X-ray selected sample of extreme hi...   \n",
       "4      The baryon cycle of Seven Dwarfs with superbub...   \n",
       "...                                                  ...   \n",
       "99995  Semiparametric estimation for space-time max-s...   \n",
       "99996  A spatial causal analysis of wildland fire-con...   \n",
       "99997               Neural Conditional Event Time Models   \n",
       "99998  Efficient Estimation of COM-Poisson Regression...   \n",
       "99999  algcomparison: Comparing the Performance of Gr...   \n",
       "\n",
       "                                                abstract     label  \n",
       "0        We report the first $BV$ light curves and hi...  astro-ph  \n",
       "1        A possible origin of kHz QPOs in low-mass X-...  astro-ph  \n",
       "2        Context. The relative importance of AC and D...  astro-ph  \n",
       "3        Extreme high-energy peaked BL Lac objects (E...  astro-ph  \n",
       "4        We present results from a high-resolution, c...  astro-ph  \n",
       "...                                                  ...       ...  \n",
       "99995    Max-stable processes have been expanded to q...      stat  \n",
       "99996    Wildland fire smoke contains hazardous level...      stat  \n",
       "99997    Event time models predict occurrence times o...      stat  \n",
       "99998    The Conway-Maxwell-Poisson (CMP) or COM-Pois...      stat  \n",
       "99999    In this report we describe a tool for compar...      stat  \n",
       "\n",
       "[100000 rows x 3 columns]>"
      ]
     },
     "execution_count": 8,
     "metadata": {},
     "output_type": "execute_result"
    }
   ],
   "source": [
    "arxiv.describe"
   ]
  },
  {
   "cell_type": "code",
   "execution_count": 9,
   "metadata": {},
   "outputs": [
    {
     "data": {
      "text/plain": [
       "<AxesSubplot:xlabel='label', ylabel='count'>"
      ]
     },
     "execution_count": 9,
     "metadata": {},
     "output_type": "execute_result"
    },
    {
     "data": {
      "image/png": "[encoded data removed]",
      "text/plain": [
       "<Figure size 432x288 with 1 Axes>"
      ]
     },
     "metadata": {
      "needs_background": "light"
     },
     "output_type": "display_data"
    }
   ],
   "source": [
    "sns.countplot(x = arxiv['label'])"
   ]
  }
 ],
 "metadata": {
  "kernelspec": {
   "display_name": "Python 3 (ipykernel)",
   "language": "python",
   "name": "python3"
  },
  "language_info": {
   "codemirror_mode": {
    "name": "ipython",
    "version": 3
   },
   "file_extension": ".py",
   "mimetype": "text/x-python",
   "name": "python",
   "nbconvert_exporter": "python",
   "pygments_lexer": "ipython3",
   "version": "3.9.7"
  },
  "vscode": {
   "interpreter": {
    "hash": "a5313fdb56b146aa87c4bbde5eea658e41fb444390e0a4641a4869feb2c507d8"
   }
  }
 },
 "nbformat": 4,
 "nbformat_minor": 4
}
